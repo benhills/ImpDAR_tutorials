{
 "cells": [
  {
   "cell_type": "markdown",
   "metadata": {},
   "source": [
    "# ImpDAR Quad-Polarized ApRES (QpDAR)\n",
    "## Polarimetric Processing\n",
    "\n",
    "Here, we define a separate data object, QuadPolData, for polarimetric ApRES processing with four acquisitions. This should be done after the initial processing for each aquisition, so have a look at the opening tutorial notebook first. If individual acquisitions are not already processed, the load function tries to do that automatically.\n",
    "\n",
    "The main processing functionality within the QuadPol class includes: \n",
    "- `rotational_transform`\n",
    "- `cpe_selection`\n",
    "- `coherence2d`\n",
    "- `cpe_phase_gradient`\n",
    "\n",
    "We overview each of these below."
   ]
  },
  {
   "cell_type": "code",
   "execution_count": null,
   "metadata": {},
   "outputs": [],
   "source": [
    "import numpy as np\n",
    "import matplotlib.pyplot as plt\n",
    "from impdar.lib.ApresData import load_apres,load_quadpol\n",
    "\n",
    "%matplotlib inline"
   ]
  },
  {
   "cell_type": "markdown",
   "metadata": {},
   "source": [
    "## Load QuadPol data class\n",
    "\n",
    "Data can be loaded as a QuadPolData object either from a file that was previously written by ImpDAR (.mat, .h5) or from four ApRES data files in the order 'HH', 'HV', 'VH', 'VV'.\n",
    "- `load_quadpol(['quadpol.mat'])`\n",
    "- `load_quadpol(['quadpol_HH.DAT', 'quadpol_HV.DAT', 'quadpol_VH.DAT', 'quadpol_VV.DAT'])`\n",
    "\n",
    "If you leave off the extension the function will try to figure it out for you. For instance:\n",
    "- `load_quadpol(['quadpol'])` will load `['quadpol_HH.DAT', 'quadpol_HV.DAT', 'quadpol_VH.DAT', 'quadpol_VV.DAT']`\n",
    "\n",
    "The load script then checks that all 4 aquisitions are compatible and tries to do the initial processing before bringing them together.\n",
    "\n",
    "Here, we use data from WAIS Divide (Young et al., 2021)."
   ]
  },
  {
   "cell_type": "code",
   "execution_count": null,
   "metadata": {},
   "outputs": [],
   "source": [
    "# Load the four acquisitions, one for each acquisitions\n",
    "qp_dat = load_quadpol.load_quadpol('./data/quadpol')\n",
    "\n",
    "# ----------------------------------------------------------\n",
    "\n",
    "# Plot all four acquisitions together\n",
    "plt.figure()\n",
    "\n",
    "plt.subplot(221)\n",
    "plt.plot(10.*np.log10(qp_dat.shh**2.),qp_dat.range,'.',c='k',ms=1,alpha=0.2);\n",
    "plt.ylim(3000,0)\n",
    "plt.title('shh',fontweight='bold')\n",
    "plt.ylabel('Range (m)')\n",
    "plt.xlabel('Power (dB)')\n",
    "\n",
    "plt.subplot(222)\n",
    "plt.plot(10.*np.log10(qp_dat.shv**2.),qp_dat.range,'.',c='k',ms=1,alpha=0.2);\n",
    "plt.ylim(3000,0)\n",
    "plt.title('shv',fontweight='bold')\n",
    "plt.ylabel('Range (m)')\n",
    "plt.xlabel('Power (dB)')\n",
    "\n",
    "plt.subplot(223)\n",
    "plt.plot(10.*np.log10(qp_dat.svh**2.),qp_dat.range,'.',c='k',ms=1,alpha=0.2);\n",
    "plt.ylim(3000,0)\n",
    "plt.title('svh',fontweight='bold')\n",
    "plt.ylabel('Range (m)')\n",
    "plt.xlabel('Power (dB)')\n",
    "\n",
    "plt.subplot(224)\n",
    "plt.plot(10.*np.log10(qp_dat.svv**2.),qp_dat.range,'.',c='k',ms=1,alpha=0.2);\n",
    "plt.ylim(3000,0)\n",
    "plt.title('svv',fontweight='bold')\n",
    "plt.ylabel('Range (m)')\n",
    "plt.xlabel('Power (dB)')\n",
    "\n",
    "plt.tight_layout()"
   ]
  },
  {
   "cell_type": "markdown",
   "metadata": {},
   "source": [
    "With the stacked data imported into a single data class we then use a rotational transform to simulate data in an azimuthal rotation.\n",
    "`qp_dat.rotational_transform()`\n",
    "\n",
    "$$ S = \\begin{bmatrix}\n",
    "s_{hh} & s_{hv}\\\\\n",
    "s_{vh} & s_{vv}\n",
    "\\end{bmatrix}$$\n",
    "\n",
    "$$ S'(\\theta) = R(\\theta) S R^T(\\theta) $$\n",
    "\n",
    "This takes the number of azimuths, `n_thetas` as input. The function also checks that the cross-polarized terms are consistent with one another. If they were oriented backwards (as has been reported an issue by several field groups) they will have opposite sign and the rotational transform will produce falsely symmetric data."
   ]
  },
  {
   "cell_type": "code",
   "execution_count": null,
   "metadata": {},
   "outputs": [],
   "source": [
    "# Rotate the acquisitions around all azimuths\n",
    "qp_dat.rotational_transform(cross_pol_flip='HV')\n",
    "\n",
    "Θs,Ds = np.meshgrid(qp_dat.thetas,qp_dat.range)\n",
    "\n",
    "plt.figure()\n",
    "\n",
    "plt.subplot(221)\n",
    "plt.contourf(Θs,Ds,10.*np.log10(qp_dat.HH**2.),cmap='Greys_r',levels=25,vmin=-25,vmax=25);\n",
    "plt.ylim(3000,0)\n",
    "plt.title('HH',fontweight='bold')\n",
    "plt.ylabel('Range (m)')\n",
    "plt.xlabel('Rotation (rad)')\n",
    "\n",
    "plt.subplot(222)\n",
    "plt.contourf(Θs,Ds,10.*np.log10(qp_dat.HV**2.),cmap='Greys_r',levels=25,vmin=-25,vmax=25);\n",
    "plt.ylim(3000,0)\n",
    "plt.title('HV',fontweight='bold')\n",
    "plt.ylabel('Range (m)')\n",
    "plt.xlabel('Rotation (rad)')\n",
    "\n",
    "plt.subplot(223)\n",
    "plt.contourf(Θs,Ds,10.*np.log10(qp_dat.VH**2.),cmap='Greys_r',levels=25,vmin=-25,vmax=25);\n",
    "plt.ylim(3000,0)\n",
    "plt.title('VH',fontweight='bold')\n",
    "plt.ylabel('Range (m)')\n",
    "plt.xlabel('Rotation (rad)')\n",
    "\n",
    "plt.subplot(224)\n",
    "plt.contourf(Θs,Ds,10.*np.log10(qp_dat.VV**2.),cmap='Greys_r',levels=25,vmin=-25,vmax=25);\n",
    "plt.ylim(3000,0)\n",
    "plt.title('VV',fontweight='bold')\n",
    "plt.ylabel('Range (m)')\n",
    "plt.xlabel('Rotation (rad)')\n",
    "\n",
    "plt.tight_layout()"
   ]
  },
  {
   "cell_type": "markdown",
   "metadata": {},
   "source": [
    "# Find the Girdle Axis\n",
    "\n",
    "The maximum girdle axis should theoretically be at the location with minimum returned power for cross-polarized acquisitions (Ershadi et al., 2022). Do some filtering of the cross-polarized image (either one) to get the extinction axis."
   ]
  },
  {
   "cell_type": "code",
   "execution_count": null,
   "metadata": {},
   "outputs": [],
   "source": [
    "from impdar.lib.ApresData._QuadPolProcessing import find_cpe\n",
    "qp_dat.find_cpe(Wn=20)\n",
    "\n",
    "plt.figure()\n",
    "plt.contourf(Θs,Ds,10.*np.log10(qp_dat.HV**2.),cmap='hot',levels=np.linspace(-25,25,21),extend='both')\n",
    "plt.colorbar()\n",
    "plt.plot(qp_dat.cpe,qp_dat.range,'m')\n",
    "plt.ylim(3000,0)\n",
    "plt.ylabel('Range (m)')\n",
    "plt.xlabel('Rotation (rad)')"
   ]
  },
  {
   "cell_type": "markdown",
   "metadata": {},
   "source": [
    "# HH-VV Coherence\n",
    "\n",
    "Compare the two co-polarized images across all azimuths."
   ]
  },
  {
   "cell_type": "code",
   "execution_count": null,
   "metadata": {},
   "outputs": [],
   "source": [
    "# Do the HH-VV coherence calculation\n",
    "qp_dat.coherence2d()"
   ]
  },
  {
   "cell_type": "markdown",
   "metadata": {},
   "source": [
    "Extract the coherence along the cpe axis and get the phase gradient along that axis."
   ]
  },
  {
   "cell_type": "code",
   "execution_count": null,
   "metadata": {},
   "outputs": [],
   "source": [
    "# Mesh the thetas and ranges in order to reference the filled contour plots\n",
    "Θs,Ds = np.meshgrid(qp_dat.thetas,qp_dat.range)\n",
    "\n",
    "plt.figure(figsize=(10,4))\n",
    "plt.subplot(131)\n",
    "plt.contourf(Θs,Ds,np.abs(qp_dat.chhvv),cmap='Greys_r',levels=100)\n",
    "plt.colorbar(label='$|c_{hhvv}|$',orientation='horizontal',ticks=np.arange(0,1.1,0.25))\n",
    "plt.ylim(2000,0)\n",
    "plt.ylabel('Range (m)')\n",
    "plt.xlabel('Rotation (rad)')\n",
    "\n",
    "plt.subplot(132)\n",
    "plt.contourf(Θs,Ds,np.angle(qp_dat.chhvv),cmap='twilight_shifted',levels=100)\n",
    "plt.colorbar(label='$\\phi_{hhvv}$',orientation='horizontal',ticks=np.arange(-np.pi,np.pi+0.1,np.pi/2.))\n",
    "plt.ylim(2000,0)\n",
    "plt.plot(qp_dat.cpe,qp_dat.range,'m')\n",
    "plt.xlabel('Rotation (rad)')\n",
    "\n",
    "plt.subplot(133)\n",
    "plt.plot(np.angle(qp_dat.chhvv_cpe),qp_dat.range,'k.')\n",
    "plt.gca().set_xticks(np.arange(-np.pi,np.pi+0.1,np.pi/2.))\n",
    "plt.ylim(2000,0)\n",
    "\n",
    "plt.tight_layout()"
   ]
  },
  {
   "cell_type": "markdown",
   "metadata": {},
   "source": [
    "# Phase Gradient\n",
    "\n",
    "Calculate the gradient of $\\phi_{hhvv}$ in the image above.\n",
    "We use both the imaginary and real components so that we do not need to 'unwrap' manually (Jordan et al., 2019)\n",
    "\n",
    "$$ $$"
   ]
  },
  {
   "cell_type": "code",
   "execution_count": null,
   "metadata": {},
   "outputs": [],
   "source": [
    "# Do the HH-VV coherence calculation\n",
    "qp_dat.phase_gradient2d(Wn=50,filt='lowpass')"
   ]
  },
  {
   "cell_type": "code",
   "execution_count": null,
   "metadata": {},
   "outputs": [],
   "source": [
    "plt.figure()\n",
    "\n",
    "plt.subplot(121)\n",
    "plt.contourf(Θs,Ds,qp_dat.dphi_dz,cmap='seismic',levels=np.linspace(-.02,.02,50),extend='both')\n",
    "plt.colorbar(label='$\\partial \\phi /\\partial z$',orientation='horizontal',ticks=np.arange(-0.02,0.021,0.01))\n",
    "plt.plot(qp_dat.cpe,qp_dat.range,'m')\n",
    "plt.ylim(2000,0)\n",
    "plt.ylabel('Range (m)')\n",
    "plt.xlabel('Rotation (rad)')\n",
    "\n",
    "plt.subplot(122)\n",
    "qp_dat.dphi_dz_cpe = qp_dat.dphi_dz[np.arange(qp_dat.snum), qp_dat.cpe_idxs]\n",
    "plt.plot(qp_dat.dphi_dz_cpe,qp_dat.range,'k.',alpha=0.01)\n",
    "plt.xlim(-0.02,0.02)\n",
    "plt.ylim(2000,0)\n",
    "\n",
    "plt.tight_layout()"
   ]
  }
 ],
 "metadata": {
  "kernelspec": {
   "display_name": "Python 3",
   "language": "python",
   "name": "python3"
  },
  "language_info": {
   "codemirror_mode": {
    "name": "ipython",
    "version": 3
   },
   "file_extension": ".py",
   "mimetype": "text/x-python",
   "name": "python",
   "nbconvert_exporter": "python",
   "pygments_lexer": "ipython3",
   "version": "3.8.8"
  }
 },
 "nbformat": 4,
 "nbformat_minor": 4
}
